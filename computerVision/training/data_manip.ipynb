{
 "cells": [
  {
   "cell_type": "markdown",
   "metadata": {},
   "source": [
    "This is to duplicate dataset"
   ]
  },
  {
   "cell_type": "code",
   "execution_count": null,
   "metadata": {},
   "outputs": [],
   "source": [
    "import os\n",
    "import shutil\n",
    "\n",
    "images_folder = \"./datasets/train/images\"\n",
    "labels_folder = \"./datasets/train/labels\"\n",
    "\n",
    "\n",
    "# Iterate over the files in the images folder\n",
    "\n",
    "for filename in os.listdir(images_folder):\n",
    "    labels_filename = filename.replace('.jpg', '.txt')\n",
    "    label_path = os.path.join(labels_folder, labels_filename)\n",
    "    image_path = os.path.join(images_folder, filename)\n",
    "    for i in range(1, 4):\n",
    "        new_image_filename = f\"{filename.replace('.jpg', '')}_{i}.jpg\"\n",
    "        new_label_filename = f\"{filename.replace('.jpg', '')}_{i}.txt\"\n",
    "\n",
    "        new_image_path = os.path.join(images_folder, new_image_filename)\n",
    "        new_label_path = os.path.join(labels_folder, new_label_filename)\n",
    "\n",
    "        # Copy the files\n",
    "        shutil.copy2(image_path, new_image_path)\n",
    "        shutil.copy2(label_path, new_label_path)"
   ]
  },
  {
   "cell_type": "markdown",
   "metadata": {},
   "source": [
    "This is to make it transform some data for validation"
   ]
  },
  {
   "cell_type": "code",
   "execution_count": 1,
   "metadata": {},
   "outputs": [],
   "source": [
    "import os\n",
    "import shutil\n",
    "import random\n",
    "\n",
    "# Set the paths\n",
    "train_folder = \"./datasets/train\"\n",
    "val_folder = \"./datasets/val\"\n",
    "\n",
    "# Create the 'val' folder if it doesn't exist\n",
    "if not os.path.exists(val_folder):\n",
    "    os.makedirs(val_folder)\n",
    "\n",
    "# Set the percentage of data to move to 'val' folder (e.g., 20%)\n",
    "percentage_to_move = 20\n",
    "\n",
    "# Get the list of images in the 'train' folder\n",
    "images_list = [file for file in os.listdir(os.path.join(train_folder, \"images\")) if file.endswith(\".jpg\")]\n",
    "\n",
    "# Calculate the number of images to move to 'val' folder\n",
    "num_images_to_move = int(len(images_list) * (percentage_to_move / 100))\n",
    "\n",
    "# Randomly select images to move\n",
    "selected_images = random.sample(images_list, num_images_to_move)\n",
    "\n",
    "# Move selected images and labels to 'val' folder\n",
    "for image_file in selected_images:\n",
    "    label_file = image_file.replace(\".jpg\", \".txt\")\n",
    "\n",
    "    image_src = os.path.join(train_folder, \"images\", image_file)\n",
    "    label_src = os.path.join(train_folder, \"labels\", label_file)\n",
    "\n",
    "    image_dst = os.path.join(val_folder, \"images\", image_file)\n",
    "    label_dst = os.path.join(val_folder, \"labels\", label_file)\n",
    "\n",
    "    # Move the files\n",
    "    shutil.move(image_src, image_dst)\n",
    "    shutil.move(label_src, label_dst)\n"
   ]
  },
  {
   "cell_type": "markdown",
   "metadata": {},
   "source": [
    "Training Yolov5 model"
   ]
  },
  {
   "cell_type": "code",
   "execution_count": null,
   "metadata": {},
   "outputs": [],
   "source": []
  }
 ],
 "metadata": {
  "kernelspec": {
   "display_name": "tamuhack",
   "language": "python",
   "name": "python3"
  },
  "language_info": {
   "codemirror_mode": {
    "name": "ipython",
    "version": 3
   },
   "file_extension": ".py",
   "mimetype": "text/x-python",
   "name": "python",
   "nbconvert_exporter": "python",
   "pygments_lexer": "ipython3",
   "version": "3.12.1"
  }
 },
 "nbformat": 4,
 "nbformat_minor": 2
}
